{
 "cells": [
  {
   "cell_type": "code",
   "execution_count": 1,
   "metadata": {},
   "outputs": [],
   "source": [
    "import imutils\n",
    "import cv2"
   ]
  },
  {
   "cell_type": "code",
   "execution_count": 2,
   "metadata": {},
   "outputs": [],
   "source": [
    "camera = cv2.VideoCapture('path')"
   ]
  },
  {
   "cell_type": "code",
   "execution_count": 4,
   "metadata": {},
   "outputs": [],
   "source": [
    "while(True):\n",
    "    (grabbed,frame)=camera.read()\n",
    "    status=\"No targets\"\n",
    "    \n",
    "    if not grabbed:\n",
    "        break\n",
    "    \n",
    "    gray = cv2.cvtColor(frame,cv2.COLOR_BGR2GRAY)\n",
    "    blurred = cv2.GaussianBlur(gray,(7,7),0)\n",
    "    edged = cv2.Canny(blurred,50,150)\n",
    "    \n",
    "    cnts= cv2.findContours(edged.copy(),cv2.RETR_EXTERNAL,cv2.CHAIN_APPROX_SIMPLE)\n",
    "    cnts = imutils.grab_contours(cnts)\n",
    "    \n",
    "    for c in cnts:\n",
    "        \n",
    "        peri = cv2.arcLength(c,True)\n",
    "        approx = cv2.approxPolyDP(c,0.01*peri,True)\n",
    "        \n",
    "        if len(approx)>=4 and len(approx)<=6:\n",
    "            (x,y,w,h) = cv2.boundingRect(approx)\n",
    "            aspectRatio = w/float(h)\n",
    "            \n",
    "            area = cv2.contourArea(c)\n",
    "            hullArea= cv2.contourArea(cv2.convexHull(c))\n",
    "            solidity = area/float(hullArea)\n",
    "            \n",
    "            keepDims = w>25 and h>25\n",
    "            keepSolidity = solidity>0.9\n",
    "            keepAspectRatio = aspectRatio>=0.8 and aspectRatio<=1.2\n",
    "            \n",
    "            if keepDims and keepSolidity and keepAspectRatio:\n",
    "                cv2.drawContours(frame, [approx], -1, (0,0,255),4)\n",
    "                status = \"Target(s) Acquired\"\n",
    "                M = cv2.moments(approx)\n",
    "                (cX,cY) = (int(M[\"m10\"] // M[\"m00\"]), int(M[\"m01\"] // M[\"m00\"]))\n",
    "                (startX, endX) = (int(cX - (w * 0.15)), int(cX + (w * 0.15)))\n",
    "                (startY, endY) = (int(cY - (h * 0.15)), int(cY + (h * 0.15)))\n",
    "                cv2.line(frame, (startX, cY), (endX, cY), (0, 0, 255), 3)\n",
    "                cv2.line(frame, (cX, startY), (cX, endY), (0, 0, 255), 3)\n",
    "    cv2.putText(frame, status, (20, 30), cv2.FONT_HERSHEY_SIMPLEX, 0.5, (0, 0, 255), 2)\n",
    "    cv2.imshow(\"Frame\", frame)\n",
    "    key = cv2.waitKey(1) & 0xFF\n",
    "    if key == ord(\"q\"):\n",
    "        break\n",
    "camera.release()\n",
    "cv2.destroyAllWindows()"
   ]
  },
  {
   "cell_type": "code",
   "execution_count": null,
   "metadata": {},
   "outputs": [],
   "source": []
  }
 ],
 "metadata": {
  "kernelspec": {
   "display_name": "Python 3",
   "language": "python",
   "name": "python3"
  },
  "language_info": {
   "codemirror_mode": {
    "name": "ipython",
    "version": 3
   },
   "file_extension": ".py",
   "mimetype": "text/x-python",
   "name": "python",
   "nbconvert_exporter": "python",
   "pygments_lexer": "ipython3",
   "version": "3.6.4"
  }
 },
 "nbformat": 4,
 "nbformat_minor": 2
}
